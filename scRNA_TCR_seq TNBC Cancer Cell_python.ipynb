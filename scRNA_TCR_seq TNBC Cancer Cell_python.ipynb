{
 "cells": [
  {
   "cell_type": "markdown",
   "id": "3babd47a-0e3e-4b40-b3fc-30b81b23fda0",
   "metadata": {},
   "source": [
    "## import and process raw counts data"
   ]
  },
  {
   "cell_type": "code",
   "execution_count": 1,
   "id": "795673cb-55ec-4b90-a46f-6b68365250cc",
   "metadata": {},
   "outputs": [],
   "source": [
    "#import library\n",
    "import scanpy as sc\n",
    "import pandas as pd\n",
    "from scipy import io"
   ]
  },
  {
   "cell_type": "code",
   "execution_count": 2,
   "id": "dbe124a6-c11b-4a09-a03c-49c02c40b24c",
   "metadata": {},
   "outputs": [],
   "source": [
    "import numpy as np"
   ]
  },
  {
   "cell_type": "code",
   "execution_count": 3,
   "id": "d8cc1251-b7b3-4b6d-9239-1686d92f62df",
   "metadata": {},
   "outputs": [],
   "source": [
    "# import raw counts data\n",
    "counts_mt=io.mmread(r'C:\\Data C\\scRNA analysis\\TNBC Cancer Cell 2021\\GSE169246_TNBC_RNA.counts.mtx.gz')\n",
    "features=pd.read_csv(r'C:\\Data C\\scRNA analysis\\TNBC Cancer Cell 2021\\GSE169246_TNBC_RNA.feature.tsv.gz', header=None, sep='\\t')\n",
    "barcodes=pd.read_csv(r'C:\\Data C\\scRNA analysis\\TNBC Cancer Cell 2021\\GSE169246_TNBC_RNA.barcode.tsv.gz', header=None, sep='\\t')"
   ]
  },
  {
   "cell_type": "code",
   "execution_count": 4,
   "id": "a74b8146-d6ae-491d-b949-f40b24c4eec6",
   "metadata": {},
   "outputs": [],
   "source": [
    "counts_mt=counts_mt.T"
   ]
  },
  {
   "cell_type": "code",
   "execution_count": 5,
   "id": "8ac4699f-0a77-4425-a95c-83cc8ae309ba",
   "metadata": {},
   "outputs": [
    {
     "name": "stdout",
     "output_type": "stream",
     "text": [
      "(489490, 27085) (27085, 1) (489490, 1)\n",
      "            0\n",
      "0  AL627309.1\n",
      "1  AL669831.5\n",
      "2      FAM87B\n",
      "3   LINC00115\n",
      "4       NOC2L                              0\n",
      "0  AAACCTGAGGTTACCT.Pre_P007_b\n",
      "1  AAACCTGCAAAGGAAG.Pre_P007_b\n",
      "2  AAACCTGCAAGTCTAC.Pre_P007_b\n",
      "3  AAACCTGCAATAAGCA.Pre_P007_b\n",
      "4  AAACCTGCACAGCGTC.Pre_P007_b\n"
     ]
    }
   ],
   "source": [
    "# check data\n",
    "print(counts_mt.shape, features.shape, barcodes.shape)  # dimesnion of data aligns well\n",
    "print(features.head(), barcodes.head())"
   ]
  },
  {
   "cell_type": "code",
   "execution_count": 29,
   "id": "a0dadefa-a893-47b4-8ff8-9538156aa509",
   "metadata": {},
   "outputs": [],
   "source": [
    "# convert sparse matrix to data frame, assign cell barcode and feature names\n",
    "counts_df = pd.DataFrame.sparse.from_spmatrix(counts_mt)\n",
    "counts_df.columns = features[0].values\n",
    "counts_df.index = barcodes[0].values "
   ]
  },
  {
   "cell_type": "code",
   "execution_count": 31,
   "id": "c96eb81f-a827-4dfc-bbaa-5964c624d531",
   "metadata": {},
   "outputs": [
    {
     "data": {
      "text/html": [
       "<div>\n",
       "<style scoped>\n",
       "    .dataframe tbody tr th:only-of-type {\n",
       "        vertical-align: middle;\n",
       "    }\n",
       "\n",
       "    .dataframe tbody tr th {\n",
       "        vertical-align: top;\n",
       "    }\n",
       "\n",
       "    .dataframe thead th {\n",
       "        text-align: right;\n",
       "    }\n",
       "</style>\n",
       "<table border=\"1\" class=\"dataframe\">\n",
       "  <thead>\n",
       "    <tr style=\"text-align: right;\">\n",
       "      <th></th>\n",
       "      <th>AL627309.1</th>\n",
       "      <th>AL669831.5</th>\n",
       "      <th>FAM87B</th>\n",
       "      <th>LINC00115</th>\n",
       "      <th>NOC2L</th>\n",
       "      <th>KLHL17</th>\n",
       "      <th>PLEKHN1</th>\n",
       "      <th>HES4</th>\n",
       "      <th>ISG15</th>\n",
       "      <th>AGRN</th>\n",
       "      <th>...</th>\n",
       "      <th>AL121890.4</th>\n",
       "      <th>LINC01923</th>\n",
       "      <th>AL031770.1</th>\n",
       "      <th>AL445224.1</th>\n",
       "      <th>STPG3</th>\n",
       "      <th>AP001189.4</th>\n",
       "      <th>AC011595.1</th>\n",
       "      <th>TRDJ3</th>\n",
       "      <th>GOLGA6L1</th>\n",
       "      <th>AC008569.1</th>\n",
       "    </tr>\n",
       "  </thead>\n",
       "  <tbody>\n",
       "    <tr>\n",
       "      <th>AAACCTGAGGTTACCT.Pre_P007_b</th>\n",
       "      <td>0</td>\n",
       "      <td>0</td>\n",
       "      <td>0</td>\n",
       "      <td>0</td>\n",
       "      <td>0</td>\n",
       "      <td>0</td>\n",
       "      <td>0</td>\n",
       "      <td>0</td>\n",
       "      <td>0</td>\n",
       "      <td>0</td>\n",
       "      <td>...</td>\n",
       "      <td>0</td>\n",
       "      <td>0</td>\n",
       "      <td>0</td>\n",
       "      <td>0</td>\n",
       "      <td>0</td>\n",
       "      <td>0</td>\n",
       "      <td>0</td>\n",
       "      <td>0</td>\n",
       "      <td>0</td>\n",
       "      <td>0</td>\n",
       "    </tr>\n",
       "    <tr>\n",
       "      <th>AAACCTGCAAAGGAAG.Pre_P007_b</th>\n",
       "      <td>0</td>\n",
       "      <td>0</td>\n",
       "      <td>0</td>\n",
       "      <td>0</td>\n",
       "      <td>0</td>\n",
       "      <td>0</td>\n",
       "      <td>0</td>\n",
       "      <td>0</td>\n",
       "      <td>0</td>\n",
       "      <td>0</td>\n",
       "      <td>...</td>\n",
       "      <td>0</td>\n",
       "      <td>0</td>\n",
       "      <td>0</td>\n",
       "      <td>0</td>\n",
       "      <td>0</td>\n",
       "      <td>0</td>\n",
       "      <td>0</td>\n",
       "      <td>0</td>\n",
       "      <td>0</td>\n",
       "      <td>0</td>\n",
       "    </tr>\n",
       "    <tr>\n",
       "      <th>AAACCTGCAAGTCTAC.Pre_P007_b</th>\n",
       "      <td>0</td>\n",
       "      <td>0</td>\n",
       "      <td>0</td>\n",
       "      <td>0</td>\n",
       "      <td>0</td>\n",
       "      <td>0</td>\n",
       "      <td>0</td>\n",
       "      <td>0</td>\n",
       "      <td>0</td>\n",
       "      <td>0</td>\n",
       "      <td>...</td>\n",
       "      <td>0</td>\n",
       "      <td>0</td>\n",
       "      <td>0</td>\n",
       "      <td>0</td>\n",
       "      <td>0</td>\n",
       "      <td>0</td>\n",
       "      <td>0</td>\n",
       "      <td>0</td>\n",
       "      <td>0</td>\n",
       "      <td>0</td>\n",
       "    </tr>\n",
       "    <tr>\n",
       "      <th>AAACCTGCAATAAGCA.Pre_P007_b</th>\n",
       "      <td>0</td>\n",
       "      <td>0</td>\n",
       "      <td>0</td>\n",
       "      <td>0</td>\n",
       "      <td>0</td>\n",
       "      <td>0</td>\n",
       "      <td>0</td>\n",
       "      <td>0</td>\n",
       "      <td>0</td>\n",
       "      <td>0</td>\n",
       "      <td>...</td>\n",
       "      <td>0</td>\n",
       "      <td>0</td>\n",
       "      <td>0</td>\n",
       "      <td>0</td>\n",
       "      <td>0</td>\n",
       "      <td>0</td>\n",
       "      <td>0</td>\n",
       "      <td>0</td>\n",
       "      <td>0</td>\n",
       "      <td>0</td>\n",
       "    </tr>\n",
       "    <tr>\n",
       "      <th>AAACCTGCACAGCGTC.Pre_P007_b</th>\n",
       "      <td>0</td>\n",
       "      <td>0</td>\n",
       "      <td>0</td>\n",
       "      <td>0</td>\n",
       "      <td>0</td>\n",
       "      <td>0</td>\n",
       "      <td>0</td>\n",
       "      <td>0</td>\n",
       "      <td>1</td>\n",
       "      <td>0</td>\n",
       "      <td>...</td>\n",
       "      <td>0</td>\n",
       "      <td>0</td>\n",
       "      <td>0</td>\n",
       "      <td>0</td>\n",
       "      <td>0</td>\n",
       "      <td>0</td>\n",
       "      <td>0</td>\n",
       "      <td>0</td>\n",
       "      <td>0</td>\n",
       "      <td>0</td>\n",
       "    </tr>\n",
       "  </tbody>\n",
       "</table>\n",
       "<p>5 rows × 27085 columns</p>\n",
       "</div>"
      ],
      "text/plain": [
       "                             AL627309.1  AL669831.5  FAM87B  LINC00115  NOC2L  \\\n",
       "AAACCTGAGGTTACCT.Pre_P007_b           0           0       0          0      0   \n",
       "AAACCTGCAAAGGAAG.Pre_P007_b           0           0       0          0      0   \n",
       "AAACCTGCAAGTCTAC.Pre_P007_b           0           0       0          0      0   \n",
       "AAACCTGCAATAAGCA.Pre_P007_b           0           0       0          0      0   \n",
       "AAACCTGCACAGCGTC.Pre_P007_b           0           0       0          0      0   \n",
       "\n",
       "                             KLHL17  PLEKHN1  HES4  ISG15  AGRN  ...  \\\n",
       "AAACCTGAGGTTACCT.Pre_P007_b       0        0     0      0     0  ...   \n",
       "AAACCTGCAAAGGAAG.Pre_P007_b       0        0     0      0     0  ...   \n",
       "AAACCTGCAAGTCTAC.Pre_P007_b       0        0     0      0     0  ...   \n",
       "AAACCTGCAATAAGCA.Pre_P007_b       0        0     0      0     0  ...   \n",
       "AAACCTGCACAGCGTC.Pre_P007_b       0        0     0      1     0  ...   \n",
       "\n",
       "                             AL121890.4  LINC01923  AL031770.1  AL445224.1  \\\n",
       "AAACCTGAGGTTACCT.Pre_P007_b           0          0           0           0   \n",
       "AAACCTGCAAAGGAAG.Pre_P007_b           0          0           0           0   \n",
       "AAACCTGCAAGTCTAC.Pre_P007_b           0          0           0           0   \n",
       "AAACCTGCAATAAGCA.Pre_P007_b           0          0           0           0   \n",
       "AAACCTGCACAGCGTC.Pre_P007_b           0          0           0           0   \n",
       "\n",
       "                             STPG3  AP001189.4  AC011595.1  TRDJ3  GOLGA6L1  \\\n",
       "AAACCTGAGGTTACCT.Pre_P007_b      0           0           0      0         0   \n",
       "AAACCTGCAAAGGAAG.Pre_P007_b      0           0           0      0         0   \n",
       "AAACCTGCAAGTCTAC.Pre_P007_b      0           0           0      0         0   \n",
       "AAACCTGCAATAAGCA.Pre_P007_b      0           0           0      0         0   \n",
       "AAACCTGCACAGCGTC.Pre_P007_b      0           0           0      0         0   \n",
       "\n",
       "                             AC008569.1  \n",
       "AAACCTGAGGTTACCT.Pre_P007_b           0  \n",
       "AAACCTGCAAAGGAAG.Pre_P007_b           0  \n",
       "AAACCTGCAAGTCTAC.Pre_P007_b           0  \n",
       "AAACCTGCAATAAGCA.Pre_P007_b           0  \n",
       "AAACCTGCACAGCGTC.Pre_P007_b           0  \n",
       "\n",
       "[5 rows x 27085 columns]"
      ]
     },
     "execution_count": 31,
     "metadata": {},
     "output_type": "execute_result"
    }
   ],
   "source": [
    "counts_df.head()"
   ]
  },
  {
   "cell_type": "markdown",
   "id": "4c6293a0-e373-4269-9363-4f82c02934af",
   "metadata": {},
   "source": [
    "## process TCR seq data"
   ]
  },
  {
   "cell_type": "code",
   "execution_count": 51,
   "id": "7dbd9f69-7f62-4534-891e-f3652da981b9",
   "metadata": {},
   "outputs": [
    {
     "data": {
      "text/html": [
       "<div>\n",
       "<style scoped>\n",
       "    .dataframe tbody tr th:only-of-type {\n",
       "        vertical-align: middle;\n",
       "    }\n",
       "\n",
       "    .dataframe tbody tr th {\n",
       "        vertical-align: top;\n",
       "    }\n",
       "\n",
       "    .dataframe thead th {\n",
       "        text-align: right;\n",
       "    }\n",
       "</style>\n",
       "<table border=\"1\" class=\"dataframe\">\n",
       "  <thead>\n",
       "    <tr style=\"text-align: right;\">\n",
       "      <th></th>\n",
       "      <th>Cell barcode</th>\n",
       "      <th>Clone.id</th>\n",
       "      <th>Patient</th>\n",
       "      <th>Sample</th>\n",
       "      <th>Group</th>\n",
       "      <th>Origin</th>\n",
       "      <th>Tissue</th>\n",
       "      <th>Treatment</th>\n",
       "      <th>Cluster</th>\n",
       "      <th>ACDR3</th>\n",
       "      <th>BCDR3</th>\n",
       "    </tr>\n",
       "  </thead>\n",
       "  <tbody>\n",
       "    <tr>\n",
       "      <th>0</th>\n",
       "      <td>AAACCTGGTTAGATGA.Pre_P001_b</td>\n",
       "      <td>TRAV38-2/DV8_TGTGCTCACGATGGAGGAAGCCAAGGAAATCTC...</td>\n",
       "      <td>P001</td>\n",
       "      <td>Pre_P001_b</td>\n",
       "      <td>Pre-treatment</td>\n",
       "      <td>b</td>\n",
       "      <td>blood</td>\n",
       "      <td>Anti-PD-L1+Chemo</td>\n",
       "      <td>b_CD8_Tn-CCR7</td>\n",
       "      <td>CAHDGGSQGNLIF</td>\n",
       "      <td>CASSQEQPRVGGYTF</td>\n",
       "    </tr>\n",
       "    <tr>\n",
       "      <th>1</th>\n",
       "      <td>AAACGGGCAACGATCT.Pre_P001_b</td>\n",
       "      <td>TRAV8-4_TGTGCTGTGAGTGGGGACCGAGGAGGAAGCTACATACC...</td>\n",
       "      <td>P001</td>\n",
       "      <td>Pre_P001_b</td>\n",
       "      <td>Pre-treatment</td>\n",
       "      <td>b</td>\n",
       "      <td>blood</td>\n",
       "      <td>Anti-PD-L1+Chemo</td>\n",
       "      <td>b_CD4_Tcm-TCF7</td>\n",
       "      <td>CAVSGDRGGSYIPTF</td>\n",
       "      <td>CASMTGRSTEAFF</td>\n",
       "    </tr>\n",
       "    <tr>\n",
       "      <th>2</th>\n",
       "      <td>AAACGGGTCGTAGATC.Pre_P001_b</td>\n",
       "      <td>TRAV16_TGTGCTCTCCCAAAGAGGGGAAAGCTTATCTTC_TRAJ2...</td>\n",
       "      <td>P001</td>\n",
       "      <td>Pre_P001_b</td>\n",
       "      <td>Pre-treatment</td>\n",
       "      <td>b</td>\n",
       "      <td>blood</td>\n",
       "      <td>Anti-PD-L1+Chemo</td>\n",
       "      <td>b_CD4_Tcm-TCF7</td>\n",
       "      <td>CALPKRGKLIF</td>\n",
       "      <td>CASSQTGTANSPLHF</td>\n",
       "    </tr>\n",
       "    <tr>\n",
       "      <th>3</th>\n",
       "      <td>AAAGATGAGTACGACG.Pre_P001_b</td>\n",
       "      <td>TRAV8-3_TGTGCTGTGGGTGCGGAGGAATATGGAAACAAACTGGT...</td>\n",
       "      <td>P001</td>\n",
       "      <td>Pre_P001_b</td>\n",
       "      <td>Pre-treatment</td>\n",
       "      <td>b</td>\n",
       "      <td>blood</td>\n",
       "      <td>Anti-PD-L1+Chemo</td>\n",
       "      <td>b_CD4_Tcm-TCF7</td>\n",
       "      <td>CAVGAEEYGNKLVF</td>\n",
       "      <td>CASSQRGQPHQPQHF</td>\n",
       "    </tr>\n",
       "    <tr>\n",
       "      <th>4</th>\n",
       "      <td>AAAGATGCAGGGTTAG.Pre_P001_b</td>\n",
       "      <td>TRAV23/DV6_TGTGCAGCCCCTTCTAACCAGGGAGGAAAGCTTAT...</td>\n",
       "      <td>P001</td>\n",
       "      <td>Pre_P001_b</td>\n",
       "      <td>Pre-treatment</td>\n",
       "      <td>b</td>\n",
       "      <td>blood</td>\n",
       "      <td>Anti-PD-L1+Chemo</td>\n",
       "      <td>b_CD8_Tn-CCR7</td>\n",
       "      <td>CAAPSNQGGKLIF</td>\n",
       "      <td>CASSSFRGLGETQYF</td>\n",
       "    </tr>\n",
       "  </tbody>\n",
       "</table>\n",
       "</div>"
      ],
      "text/plain": [
       "                  Cell barcode  \\\n",
       "0  AAACCTGGTTAGATGA.Pre_P001_b   \n",
       "1  AAACGGGCAACGATCT.Pre_P001_b   \n",
       "2  AAACGGGTCGTAGATC.Pre_P001_b   \n",
       "3  AAAGATGAGTACGACG.Pre_P001_b   \n",
       "4  AAAGATGCAGGGTTAG.Pre_P001_b   \n",
       "\n",
       "                                            Clone.id Patient      Sample  \\\n",
       "0  TRAV38-2/DV8_TGTGCTCACGATGGAGGAAGCCAAGGAAATCTC...    P001  Pre_P001_b   \n",
       "1  TRAV8-4_TGTGCTGTGAGTGGGGACCGAGGAGGAAGCTACATACC...    P001  Pre_P001_b   \n",
       "2  TRAV16_TGTGCTCTCCCAAAGAGGGGAAAGCTTATCTTC_TRAJ2...    P001  Pre_P001_b   \n",
       "3  TRAV8-3_TGTGCTGTGGGTGCGGAGGAATATGGAAACAAACTGGT...    P001  Pre_P001_b   \n",
       "4  TRAV23/DV6_TGTGCAGCCCCTTCTAACCAGGGAGGAAAGCTTAT...    P001  Pre_P001_b   \n",
       "\n",
       "           Group Origin Tissue         Treatment         Cluster  \\\n",
       "0  Pre-treatment      b  blood  Anti-PD-L1+Chemo   b_CD8_Tn-CCR7   \n",
       "1  Pre-treatment      b  blood  Anti-PD-L1+Chemo  b_CD4_Tcm-TCF7   \n",
       "2  Pre-treatment      b  blood  Anti-PD-L1+Chemo  b_CD4_Tcm-TCF7   \n",
       "3  Pre-treatment      b  blood  Anti-PD-L1+Chemo  b_CD4_Tcm-TCF7   \n",
       "4  Pre-treatment      b  blood  Anti-PD-L1+Chemo   b_CD8_Tn-CCR7   \n",
       "\n",
       "             ACDR3            BCDR3  \n",
       "0    CAHDGGSQGNLIF  CASSQEQPRVGGYTF  \n",
       "1  CAVSGDRGGSYIPTF    CASMTGRSTEAFF  \n",
       "2      CALPKRGKLIF  CASSQTGTANSPLHF  \n",
       "3   CAVGAEEYGNKLVF  CASSQRGQPHQPQHF  \n",
       "4    CAAPSNQGGKLIF  CASSSFRGLGETQYF  "
      ]
     },
     "execution_count": 51,
     "metadata": {},
     "output_type": "execute_result"
    }
   ],
   "source": [
    "# import the barcode of T cells and processed TCR data\n",
    "TCR_seq=pd.read_excel(r'C:\\Data C\\scRNA analysis\\TNBC Cancer Cell 2021\\TCR_clones.xlsx')\n",
    "TCR_seq.head()"
   ]
  },
  {
   "cell_type": "code",
   "execution_count": 52,
   "id": "48a15922-197c-4973-904e-d5fd63aa2df8",
   "metadata": {},
   "outputs": [
    {
     "name": "stdout",
     "output_type": "stream",
     "text": [
      "                   Cell barcode  \\\n",
      "0   AAACCTGGTTAGATGA.Pre_P001_b   \n",
      "4   AAAGATGCAGGGTTAG.Pre_P001_b   \n",
      "5   AAAGATGGTCAGGACA.Pre_P001_b   \n",
      "10  AAAGTAGAGGTTACCT.Pre_P001_b   \n",
      "11  AAAGTAGGTCTGCCAG.Pre_P001_b   \n",
      "\n",
      "                                             Clone.id Patient      Sample  \\\n",
      "0   TRAV38-2/DV8_TGTGCTCACGATGGAGGAAGCCAAGGAAATCTC...    P001  Pre_P001_b   \n",
      "4   TRAV23/DV6_TGTGCAGCCCCTTCTAACCAGGGAGGAAAGCTTAT...    P001  Pre_P001_b   \n",
      "5   TRAV13-2_TGTGCAGAGAATCCGGCTGGAGGCTTCAAAACTATCT...    P001  Pre_P001_b   \n",
      "10  TRAV35_TGTGCTGGGCCCCATGCTGGTGGTACTAGCTATGGAAAG...    P001  Pre_P001_b   \n",
      "11  TRAV5_TGTGGCCCTAGAGGGGACACGGGCAGGAGAGCACTTACTT...    P001  Pre_P001_b   \n",
      "\n",
      "            Group Origin Tissue         Treatment            Cluster  \\\n",
      "0   Pre-treatment      b  blood  Anti-PD-L1+Chemo      b_CD8_Tn-CCR7   \n",
      "4   Pre-treatment      b  blood  Anti-PD-L1+Chemo      b_CD8_Tn-CCR7   \n",
      "5   Pre-treatment      b  blood  Anti-PD-L1+Chemo     b_CD8_Tem-GZMK   \n",
      "10  Pre-treatment      b  blood  Anti-PD-L1+Chemo  b_CD8_Teff-FGFBP2   \n",
      "11  Pre-treatment      b  blood  Anti-PD-L1+Chemo     b_CD8_Tem-GZMK   \n",
      "\n",
      "               ACDR3               BCDR3  \n",
      "0      CAHDGGSQGNLIF     CASSQEQPRVGGYTF  \n",
      "4      CAAPSNQGGKLIF     CASSSFRGLGETQYF  \n",
      "5      CAENPAGGFKTIF  CSVRTSTGGPTVQETQYF  \n",
      "10  CAGPHAGGTSYGKLTF       CSASEVRVEEQYF  \n",
      "11    CGPRGDTGRRALTF     CASSPHRVTGETQYF  \n",
      "(62229, 11)\n"
     ]
    }
   ],
   "source": [
    "# extract the CD8 data\n",
    "TCR_CD8=TCR_seq[TCR_seq['Cluster'].str.contains('CD8')]\n",
    "print(TCR_CD8.head())\n",
    "print(TCR_CD8.shape)"
   ]
  },
  {
   "cell_type": "code",
   "execution_count": 32,
   "id": "1e7f0c41-d662-4283-bfc5-3fea254069ba",
   "metadata": {},
   "outputs": [
    {
     "data": {
      "text/html": [
       "<div>\n",
       "<style scoped>\n",
       "    .dataframe tbody tr th:only-of-type {\n",
       "        vertical-align: middle;\n",
       "    }\n",
       "\n",
       "    .dataframe tbody tr th {\n",
       "        vertical-align: top;\n",
       "    }\n",
       "\n",
       "    .dataframe thead th {\n",
       "        text-align: right;\n",
       "    }\n",
       "</style>\n",
       "<table border=\"1\" class=\"dataframe\">\n",
       "  <thead>\n",
       "    <tr style=\"text-align: right;\">\n",
       "      <th></th>\n",
       "      <th>AL627309.1</th>\n",
       "      <th>AL669831.5</th>\n",
       "      <th>FAM87B</th>\n",
       "      <th>LINC00115</th>\n",
       "      <th>NOC2L</th>\n",
       "      <th>KLHL17</th>\n",
       "      <th>PLEKHN1</th>\n",
       "      <th>HES4</th>\n",
       "      <th>ISG15</th>\n",
       "      <th>AGRN</th>\n",
       "      <th>...</th>\n",
       "      <th>AL121890.4</th>\n",
       "      <th>LINC01923</th>\n",
       "      <th>AL031770.1</th>\n",
       "      <th>AL445224.1</th>\n",
       "      <th>STPG3</th>\n",
       "      <th>AP001189.4</th>\n",
       "      <th>AC011595.1</th>\n",
       "      <th>TRDJ3</th>\n",
       "      <th>GOLGA6L1</th>\n",
       "      <th>AC008569.1</th>\n",
       "    </tr>\n",
       "  </thead>\n",
       "  <tbody>\n",
       "    <tr>\n",
       "      <th>AAACCTGGTTAGATGA.Pre_P001_b</th>\n",
       "      <td>0</td>\n",
       "      <td>0</td>\n",
       "      <td>0</td>\n",
       "      <td>1</td>\n",
       "      <td>0</td>\n",
       "      <td>0</td>\n",
       "      <td>0</td>\n",
       "      <td>0</td>\n",
       "      <td>0</td>\n",
       "      <td>0</td>\n",
       "      <td>...</td>\n",
       "      <td>0</td>\n",
       "      <td>0</td>\n",
       "      <td>0</td>\n",
       "      <td>0</td>\n",
       "      <td>0</td>\n",
       "      <td>0</td>\n",
       "      <td>0</td>\n",
       "      <td>0</td>\n",
       "      <td>0</td>\n",
       "      <td>0</td>\n",
       "    </tr>\n",
       "    <tr>\n",
       "      <th>AAAGATGCAGGGTTAG.Pre_P001_b</th>\n",
       "      <td>0</td>\n",
       "      <td>0</td>\n",
       "      <td>0</td>\n",
       "      <td>0</td>\n",
       "      <td>0</td>\n",
       "      <td>0</td>\n",
       "      <td>0</td>\n",
       "      <td>0</td>\n",
       "      <td>0</td>\n",
       "      <td>0</td>\n",
       "      <td>...</td>\n",
       "      <td>0</td>\n",
       "      <td>0</td>\n",
       "      <td>0</td>\n",
       "      <td>0</td>\n",
       "      <td>0</td>\n",
       "      <td>0</td>\n",
       "      <td>0</td>\n",
       "      <td>0</td>\n",
       "      <td>0</td>\n",
       "      <td>0</td>\n",
       "    </tr>\n",
       "    <tr>\n",
       "      <th>AAAGATGGTCAGGACA.Pre_P001_b</th>\n",
       "      <td>0</td>\n",
       "      <td>0</td>\n",
       "      <td>0</td>\n",
       "      <td>0</td>\n",
       "      <td>1</td>\n",
       "      <td>0</td>\n",
       "      <td>0</td>\n",
       "      <td>0</td>\n",
       "      <td>0</td>\n",
       "      <td>0</td>\n",
       "      <td>...</td>\n",
       "      <td>0</td>\n",
       "      <td>0</td>\n",
       "      <td>0</td>\n",
       "      <td>0</td>\n",
       "      <td>0</td>\n",
       "      <td>0</td>\n",
       "      <td>0</td>\n",
       "      <td>0</td>\n",
       "      <td>0</td>\n",
       "      <td>0</td>\n",
       "    </tr>\n",
       "    <tr>\n",
       "      <th>AAAGTAGAGGTTACCT.Pre_P001_b</th>\n",
       "      <td>0</td>\n",
       "      <td>0</td>\n",
       "      <td>0</td>\n",
       "      <td>0</td>\n",
       "      <td>0</td>\n",
       "      <td>0</td>\n",
       "      <td>0</td>\n",
       "      <td>0</td>\n",
       "      <td>0</td>\n",
       "      <td>0</td>\n",
       "      <td>...</td>\n",
       "      <td>0</td>\n",
       "      <td>0</td>\n",
       "      <td>0</td>\n",
       "      <td>0</td>\n",
       "      <td>0</td>\n",
       "      <td>0</td>\n",
       "      <td>0</td>\n",
       "      <td>0</td>\n",
       "      <td>0</td>\n",
       "      <td>0</td>\n",
       "    </tr>\n",
       "    <tr>\n",
       "      <th>AAAGTAGGTCTGCCAG.Pre_P001_b</th>\n",
       "      <td>0</td>\n",
       "      <td>0</td>\n",
       "      <td>0</td>\n",
       "      <td>0</td>\n",
       "      <td>0</td>\n",
       "      <td>0</td>\n",
       "      <td>0</td>\n",
       "      <td>0</td>\n",
       "      <td>0</td>\n",
       "      <td>0</td>\n",
       "      <td>...</td>\n",
       "      <td>0</td>\n",
       "      <td>0</td>\n",
       "      <td>0</td>\n",
       "      <td>0</td>\n",
       "      <td>0</td>\n",
       "      <td>0</td>\n",
       "      <td>0</td>\n",
       "      <td>0</td>\n",
       "      <td>0</td>\n",
       "      <td>0</td>\n",
       "    </tr>\n",
       "  </tbody>\n",
       "</table>\n",
       "<p>5 rows × 27085 columns</p>\n",
       "</div>"
      ],
      "text/plain": [
       "                             AL627309.1  AL669831.5  FAM87B  LINC00115  NOC2L  \\\n",
       "AAACCTGGTTAGATGA.Pre_P001_b           0           0       0          1      0   \n",
       "AAAGATGCAGGGTTAG.Pre_P001_b           0           0       0          0      0   \n",
       "AAAGATGGTCAGGACA.Pre_P001_b           0           0       0          0      1   \n",
       "AAAGTAGAGGTTACCT.Pre_P001_b           0           0       0          0      0   \n",
       "AAAGTAGGTCTGCCAG.Pre_P001_b           0           0       0          0      0   \n",
       "\n",
       "                             KLHL17  PLEKHN1  HES4  ISG15  AGRN  ...  \\\n",
       "AAACCTGGTTAGATGA.Pre_P001_b       0        0     0      0     0  ...   \n",
       "AAAGATGCAGGGTTAG.Pre_P001_b       0        0     0      0     0  ...   \n",
       "AAAGATGGTCAGGACA.Pre_P001_b       0        0     0      0     0  ...   \n",
       "AAAGTAGAGGTTACCT.Pre_P001_b       0        0     0      0     0  ...   \n",
       "AAAGTAGGTCTGCCAG.Pre_P001_b       0        0     0      0     0  ...   \n",
       "\n",
       "                             AL121890.4  LINC01923  AL031770.1  AL445224.1  \\\n",
       "AAACCTGGTTAGATGA.Pre_P001_b           0          0           0           0   \n",
       "AAAGATGCAGGGTTAG.Pre_P001_b           0          0           0           0   \n",
       "AAAGATGGTCAGGACA.Pre_P001_b           0          0           0           0   \n",
       "AAAGTAGAGGTTACCT.Pre_P001_b           0          0           0           0   \n",
       "AAAGTAGGTCTGCCAG.Pre_P001_b           0          0           0           0   \n",
       "\n",
       "                             STPG3  AP001189.4  AC011595.1  TRDJ3  GOLGA6L1  \\\n",
       "AAACCTGGTTAGATGA.Pre_P001_b      0           0           0      0         0   \n",
       "AAAGATGCAGGGTTAG.Pre_P001_b      0           0           0      0         0   \n",
       "AAAGATGGTCAGGACA.Pre_P001_b      0           0           0      0         0   \n",
       "AAAGTAGAGGTTACCT.Pre_P001_b      0           0           0      0         0   \n",
       "AAAGTAGGTCTGCCAG.Pre_P001_b      0           0           0      0         0   \n",
       "\n",
       "                             AC008569.1  \n",
       "AAACCTGGTTAGATGA.Pre_P001_b           0  \n",
       "AAAGATGCAGGGTTAG.Pre_P001_b           0  \n",
       "AAAGATGGTCAGGACA.Pre_P001_b           0  \n",
       "AAAGTAGAGGTTACCT.Pre_P001_b           0  \n",
       "AAAGTAGGTCTGCCAG.Pre_P001_b           0  \n",
       "\n",
       "[5 rows x 27085 columns]"
      ]
     },
     "execution_count": 32,
     "metadata": {},
     "output_type": "execute_result"
    }
   ],
   "source": [
    "CD8_df=counts_df.loc[TCR_CD8['Cell barcode']]\n",
    "CD8_df.head()\n"
   ]
  },
  {
   "cell_type": "code",
   "execution_count": 53,
   "id": "5343763d-65d7-4e92-bb6e-cf46368f7d24",
   "metadata": {},
   "outputs": [
    {
     "data": {
      "text/plain": [
       "array([ True])"
      ]
     },
     "execution_count": 53,
     "metadata": {},
     "output_type": "execute_result"
    }
   ],
   "source": [
    "np.unique(CD8_df.index==TCR_CD8['Cell barcode'])"
   ]
  },
  {
   "cell_type": "markdown",
   "id": "f53b11b0-f14e-46eb-ab2e-36ec6b0aa80c",
   "metadata": {},
   "source": [
    "## convert to adata object"
   ]
  },
  {
   "cell_type": "code",
   "execution_count": 34,
   "id": "ab474fa7-bb61-4614-8467-377b1ac4e5b6",
   "metadata": {},
   "outputs": [
    {
     "name": "stdout",
     "output_type": "stream",
     "text": [
      "Empty DataFrame\n",
      "Columns: []\n",
      "Index: [AAACCTGGTTAGATGA.Pre_P001_b, AAAGATGCAGGGTTAG.Pre_P001_b, AAAGATGGTCAGGACA.Pre_P001_b, AAAGTAGAGGTTACCT.Pre_P001_b, AAAGTAGGTCTGCCAG.Pre_P001_b]\n",
      "Empty DataFrame\n",
      "Columns: []\n",
      "Index: [AL627309.1, AL669831.5, FAM87B, LINC00115, NOC2L]\n"
     ]
    }
   ],
   "source": [
    "#convert to adata data\n",
    "adata_CD8=sc.AnnData(X=CD8_df)\n",
    "print(adata_CD8.obs.head())\n",
    "print(adata_CD8.var.head())"
   ]
  },
  {
   "cell_type": "code",
   "execution_count": 35,
   "id": "7c3cfd0d-bfe3-48c3-8997-f1bc46f24fca",
   "metadata": {},
   "outputs": [
    {
     "data": {
      "text/plain": [
       "array([ True])"
      ]
     },
     "execution_count": 35,
     "metadata": {},
     "output_type": "execute_result"
    }
   ],
   "source": [
    "np.unique(adata_CD8.obs_names==TCR_CD8['Cell barcode'])"
   ]
  },
  {
   "cell_type": "code",
   "execution_count": 54,
   "id": "64163e00-ac61-49bc-9d80-a5eacc2bfd3b",
   "metadata": {},
   "outputs": [
    {
     "data": {
      "text/html": [
       "<div>\n",
       "<style scoped>\n",
       "    .dataframe tbody tr th:only-of-type {\n",
       "        vertical-align: middle;\n",
       "    }\n",
       "\n",
       "    .dataframe tbody tr th {\n",
       "        vertical-align: top;\n",
       "    }\n",
       "\n",
       "    .dataframe thead th {\n",
       "        text-align: right;\n",
       "    }\n",
       "</style>\n",
       "<table border=\"1\" class=\"dataframe\">\n",
       "  <thead>\n",
       "    <tr style=\"text-align: right;\">\n",
       "      <th></th>\n",
       "      <th>Clone.id</th>\n",
       "      <th>Patient</th>\n",
       "      <th>Sample</th>\n",
       "      <th>Group</th>\n",
       "      <th>Origin</th>\n",
       "      <th>Tissue</th>\n",
       "      <th>Treatment</th>\n",
       "      <th>Cluster</th>\n",
       "      <th>ACDR3</th>\n",
       "      <th>BCDR3</th>\n",
       "    </tr>\n",
       "  </thead>\n",
       "  <tbody>\n",
       "    <tr>\n",
       "      <th>AAACCTGGTTAGATGA.Pre_P001_b</th>\n",
       "      <td>TRAV38-2/DV8_TGTGCTCACGATGGAGGAAGCCAAGGAAATCTC...</td>\n",
       "      <td>P001</td>\n",
       "      <td>Pre_P001_b</td>\n",
       "      <td>Pre-treatment</td>\n",
       "      <td>b</td>\n",
       "      <td>blood</td>\n",
       "      <td>Anti-PD-L1+Chemo</td>\n",
       "      <td>b_CD8_Tn-CCR7</td>\n",
       "      <td>CAHDGGSQGNLIF</td>\n",
       "      <td>CASSQEQPRVGGYTF</td>\n",
       "    </tr>\n",
       "    <tr>\n",
       "      <th>AAAGATGCAGGGTTAG.Pre_P001_b</th>\n",
       "      <td>TRAV23/DV6_TGTGCAGCCCCTTCTAACCAGGGAGGAAAGCTTAT...</td>\n",
       "      <td>P001</td>\n",
       "      <td>Pre_P001_b</td>\n",
       "      <td>Pre-treatment</td>\n",
       "      <td>b</td>\n",
       "      <td>blood</td>\n",
       "      <td>Anti-PD-L1+Chemo</td>\n",
       "      <td>b_CD8_Tn-CCR7</td>\n",
       "      <td>CAAPSNQGGKLIF</td>\n",
       "      <td>CASSSFRGLGETQYF</td>\n",
       "    </tr>\n",
       "    <tr>\n",
       "      <th>AAAGATGGTCAGGACA.Pre_P001_b</th>\n",
       "      <td>TRAV13-2_TGTGCAGAGAATCCGGCTGGAGGCTTCAAAACTATCT...</td>\n",
       "      <td>P001</td>\n",
       "      <td>Pre_P001_b</td>\n",
       "      <td>Pre-treatment</td>\n",
       "      <td>b</td>\n",
       "      <td>blood</td>\n",
       "      <td>Anti-PD-L1+Chemo</td>\n",
       "      <td>b_CD8_Tem-GZMK</td>\n",
       "      <td>CAENPAGGFKTIF</td>\n",
       "      <td>CSVRTSTGGPTVQETQYF</td>\n",
       "    </tr>\n",
       "    <tr>\n",
       "      <th>AAAGTAGAGGTTACCT.Pre_P001_b</th>\n",
       "      <td>TRAV35_TGTGCTGGGCCCCATGCTGGTGGTACTAGCTATGGAAAG...</td>\n",
       "      <td>P001</td>\n",
       "      <td>Pre_P001_b</td>\n",
       "      <td>Pre-treatment</td>\n",
       "      <td>b</td>\n",
       "      <td>blood</td>\n",
       "      <td>Anti-PD-L1+Chemo</td>\n",
       "      <td>b_CD8_Teff-FGFBP2</td>\n",
       "      <td>CAGPHAGGTSYGKLTF</td>\n",
       "      <td>CSASEVRVEEQYF</td>\n",
       "    </tr>\n",
       "    <tr>\n",
       "      <th>AAAGTAGGTCTGCCAG.Pre_P001_b</th>\n",
       "      <td>TRAV5_TGTGGCCCTAGAGGGGACACGGGCAGGAGAGCACTTACTT...</td>\n",
       "      <td>P001</td>\n",
       "      <td>Pre_P001_b</td>\n",
       "      <td>Pre-treatment</td>\n",
       "      <td>b</td>\n",
       "      <td>blood</td>\n",
       "      <td>Anti-PD-L1+Chemo</td>\n",
       "      <td>b_CD8_Tem-GZMK</td>\n",
       "      <td>CGPRGDTGRRALTF</td>\n",
       "      <td>CASSPHRVTGETQYF</td>\n",
       "    </tr>\n",
       "  </tbody>\n",
       "</table>\n",
       "</div>"
      ],
      "text/plain": [
       "                                                                      Clone.id  \\\n",
       "AAACCTGGTTAGATGA.Pre_P001_b  TRAV38-2/DV8_TGTGCTCACGATGGAGGAAGCCAAGGAAATCTC...   \n",
       "AAAGATGCAGGGTTAG.Pre_P001_b  TRAV23/DV6_TGTGCAGCCCCTTCTAACCAGGGAGGAAAGCTTAT...   \n",
       "AAAGATGGTCAGGACA.Pre_P001_b  TRAV13-2_TGTGCAGAGAATCCGGCTGGAGGCTTCAAAACTATCT...   \n",
       "AAAGTAGAGGTTACCT.Pre_P001_b  TRAV35_TGTGCTGGGCCCCATGCTGGTGGTACTAGCTATGGAAAG...   \n",
       "AAAGTAGGTCTGCCAG.Pre_P001_b  TRAV5_TGTGGCCCTAGAGGGGACACGGGCAGGAGAGCACTTACTT...   \n",
       "\n",
       "                            Patient      Sample          Group Origin Tissue  \\\n",
       "AAACCTGGTTAGATGA.Pre_P001_b    P001  Pre_P001_b  Pre-treatment      b  blood   \n",
       "AAAGATGCAGGGTTAG.Pre_P001_b    P001  Pre_P001_b  Pre-treatment      b  blood   \n",
       "AAAGATGGTCAGGACA.Pre_P001_b    P001  Pre_P001_b  Pre-treatment      b  blood   \n",
       "AAAGTAGAGGTTACCT.Pre_P001_b    P001  Pre_P001_b  Pre-treatment      b  blood   \n",
       "AAAGTAGGTCTGCCAG.Pre_P001_b    P001  Pre_P001_b  Pre-treatment      b  blood   \n",
       "\n",
       "                                    Treatment            Cluster  \\\n",
       "AAACCTGGTTAGATGA.Pre_P001_b  Anti-PD-L1+Chemo      b_CD8_Tn-CCR7   \n",
       "AAAGATGCAGGGTTAG.Pre_P001_b  Anti-PD-L1+Chemo      b_CD8_Tn-CCR7   \n",
       "AAAGATGGTCAGGACA.Pre_P001_b  Anti-PD-L1+Chemo     b_CD8_Tem-GZMK   \n",
       "AAAGTAGAGGTTACCT.Pre_P001_b  Anti-PD-L1+Chemo  b_CD8_Teff-FGFBP2   \n",
       "AAAGTAGGTCTGCCAG.Pre_P001_b  Anti-PD-L1+Chemo     b_CD8_Tem-GZMK   \n",
       "\n",
       "                                        ACDR3               BCDR3  \n",
       "AAACCTGGTTAGATGA.Pre_P001_b     CAHDGGSQGNLIF     CASSQEQPRVGGYTF  \n",
       "AAAGATGCAGGGTTAG.Pre_P001_b     CAAPSNQGGKLIF     CASSSFRGLGETQYF  \n",
       "AAAGATGGTCAGGACA.Pre_P001_b     CAENPAGGFKTIF  CSVRTSTGGPTVQETQYF  \n",
       "AAAGTAGAGGTTACCT.Pre_P001_b  CAGPHAGGTSYGKLTF       CSASEVRVEEQYF  \n",
       "AAAGTAGGTCTGCCAG.Pre_P001_b    CGPRGDTGRRALTF     CASSPHRVTGETQYF  "
      ]
     },
     "execution_count": 54,
     "metadata": {},
     "output_type": "execute_result"
    }
   ],
   "source": [
    "TCR_CD8.set_index('Cell barcode', inplace=True)\n",
    "TCR_CD8.index.name=None\n",
    "TCR_CD8.head() # reset index to CD8 Cell ID"
   ]
  },
  {
   "cell_type": "code",
   "execution_count": 79,
   "id": "a880854b-7112-4ffd-914b-897495e352e7",
   "metadata": {},
   "outputs": [
    {
     "name": "stderr",
     "output_type": "stream",
     "text": [
      "C:\\Users\\masj\\AppData\\Local\\Temp\\ipykernel_27236\\2291241331.py:1: SettingWithCopyWarning: \n",
      "A value is trying to be set on a copy of a slice from a DataFrame.\n",
      "Try using .loc[row_indexer,col_indexer] = value instead\n",
      "\n",
      "See the caveats in the documentation: https://pandas.pydata.org/pandas-docs/stable/user_guide/indexing.html#returning-a-view-versus-a-copy\n",
      "  TCR_CD8['TCR_type']=TCR_CD8['ACDR3']+TCR_CD8['BCDR3']\n"
     ]
    },
    {
     "data": {
      "text/html": [
       "<div>\n",
       "<style scoped>\n",
       "    .dataframe tbody tr th:only-of-type {\n",
       "        vertical-align: middle;\n",
       "    }\n",
       "\n",
       "    .dataframe tbody tr th {\n",
       "        vertical-align: top;\n",
       "    }\n",
       "\n",
       "    .dataframe thead th {\n",
       "        text-align: right;\n",
       "    }\n",
       "</style>\n",
       "<table border=\"1\" class=\"dataframe\">\n",
       "  <thead>\n",
       "    <tr style=\"text-align: right;\">\n",
       "      <th></th>\n",
       "      <th>Clone.id</th>\n",
       "      <th>Patient</th>\n",
       "      <th>Sample</th>\n",
       "      <th>Group</th>\n",
       "      <th>Origin</th>\n",
       "      <th>Tissue</th>\n",
       "      <th>Treatment</th>\n",
       "      <th>Cluster</th>\n",
       "      <th>ACDR3</th>\n",
       "      <th>BCDR3</th>\n",
       "      <th>TCR_type</th>\n",
       "    </tr>\n",
       "  </thead>\n",
       "  <tbody>\n",
       "    <tr>\n",
       "      <th>AAACCTGGTTAGATGA.Pre_P001_b</th>\n",
       "      <td>TRAV38-2/DV8_TGTGCTCACGATGGAGGAAGCCAAGGAAATCTC...</td>\n",
       "      <td>P001</td>\n",
       "      <td>Pre_P001_b</td>\n",
       "      <td>Pre-treatment</td>\n",
       "      <td>b</td>\n",
       "      <td>blood</td>\n",
       "      <td>Anti-PD-L1+Chemo</td>\n",
       "      <td>b_CD8_Tn-CCR7</td>\n",
       "      <td>CAHDGGSQGNLIF</td>\n",
       "      <td>CASSQEQPRVGGYTF</td>\n",
       "      <td>CAHDGGSQGNLIFCASSQEQPRVGGYTF</td>\n",
       "    </tr>\n",
       "    <tr>\n",
       "      <th>AAAGATGCAGGGTTAG.Pre_P001_b</th>\n",
       "      <td>TRAV23/DV6_TGTGCAGCCCCTTCTAACCAGGGAGGAAAGCTTAT...</td>\n",
       "      <td>P001</td>\n",
       "      <td>Pre_P001_b</td>\n",
       "      <td>Pre-treatment</td>\n",
       "      <td>b</td>\n",
       "      <td>blood</td>\n",
       "      <td>Anti-PD-L1+Chemo</td>\n",
       "      <td>b_CD8_Tn-CCR7</td>\n",
       "      <td>CAAPSNQGGKLIF</td>\n",
       "      <td>CASSSFRGLGETQYF</td>\n",
       "      <td>CAAPSNQGGKLIFCASSSFRGLGETQYF</td>\n",
       "    </tr>\n",
       "    <tr>\n",
       "      <th>AAAGATGGTCAGGACA.Pre_P001_b</th>\n",
       "      <td>TRAV13-2_TGTGCAGAGAATCCGGCTGGAGGCTTCAAAACTATCT...</td>\n",
       "      <td>P001</td>\n",
       "      <td>Pre_P001_b</td>\n",
       "      <td>Pre-treatment</td>\n",
       "      <td>b</td>\n",
       "      <td>blood</td>\n",
       "      <td>Anti-PD-L1+Chemo</td>\n",
       "      <td>b_CD8_Tem-GZMK</td>\n",
       "      <td>CAENPAGGFKTIF</td>\n",
       "      <td>CSVRTSTGGPTVQETQYF</td>\n",
       "      <td>CAENPAGGFKTIFCSVRTSTGGPTVQETQYF</td>\n",
       "    </tr>\n",
       "    <tr>\n",
       "      <th>AAAGTAGAGGTTACCT.Pre_P001_b</th>\n",
       "      <td>TRAV35_TGTGCTGGGCCCCATGCTGGTGGTACTAGCTATGGAAAG...</td>\n",
       "      <td>P001</td>\n",
       "      <td>Pre_P001_b</td>\n",
       "      <td>Pre-treatment</td>\n",
       "      <td>b</td>\n",
       "      <td>blood</td>\n",
       "      <td>Anti-PD-L1+Chemo</td>\n",
       "      <td>b_CD8_Teff-FGFBP2</td>\n",
       "      <td>CAGPHAGGTSYGKLTF</td>\n",
       "      <td>CSASEVRVEEQYF</td>\n",
       "      <td>CAGPHAGGTSYGKLTFCSASEVRVEEQYF</td>\n",
       "    </tr>\n",
       "    <tr>\n",
       "      <th>AAAGTAGGTCTGCCAG.Pre_P001_b</th>\n",
       "      <td>TRAV5_TGTGGCCCTAGAGGGGACACGGGCAGGAGAGCACTTACTT...</td>\n",
       "      <td>P001</td>\n",
       "      <td>Pre_P001_b</td>\n",
       "      <td>Pre-treatment</td>\n",
       "      <td>b</td>\n",
       "      <td>blood</td>\n",
       "      <td>Anti-PD-L1+Chemo</td>\n",
       "      <td>b_CD8_Tem-GZMK</td>\n",
       "      <td>CGPRGDTGRRALTF</td>\n",
       "      <td>CASSPHRVTGETQYF</td>\n",
       "      <td>CGPRGDTGRRALTFCASSPHRVTGETQYF</td>\n",
       "    </tr>\n",
       "  </tbody>\n",
       "</table>\n",
       "</div>"
      ],
      "text/plain": [
       "                                                                      Clone.id  \\\n",
       "AAACCTGGTTAGATGA.Pre_P001_b  TRAV38-2/DV8_TGTGCTCACGATGGAGGAAGCCAAGGAAATCTC...   \n",
       "AAAGATGCAGGGTTAG.Pre_P001_b  TRAV23/DV6_TGTGCAGCCCCTTCTAACCAGGGAGGAAAGCTTAT...   \n",
       "AAAGATGGTCAGGACA.Pre_P001_b  TRAV13-2_TGTGCAGAGAATCCGGCTGGAGGCTTCAAAACTATCT...   \n",
       "AAAGTAGAGGTTACCT.Pre_P001_b  TRAV35_TGTGCTGGGCCCCATGCTGGTGGTACTAGCTATGGAAAG...   \n",
       "AAAGTAGGTCTGCCAG.Pre_P001_b  TRAV5_TGTGGCCCTAGAGGGGACACGGGCAGGAGAGCACTTACTT...   \n",
       "\n",
       "                            Patient      Sample          Group Origin Tissue  \\\n",
       "AAACCTGGTTAGATGA.Pre_P001_b    P001  Pre_P001_b  Pre-treatment      b  blood   \n",
       "AAAGATGCAGGGTTAG.Pre_P001_b    P001  Pre_P001_b  Pre-treatment      b  blood   \n",
       "AAAGATGGTCAGGACA.Pre_P001_b    P001  Pre_P001_b  Pre-treatment      b  blood   \n",
       "AAAGTAGAGGTTACCT.Pre_P001_b    P001  Pre_P001_b  Pre-treatment      b  blood   \n",
       "AAAGTAGGTCTGCCAG.Pre_P001_b    P001  Pre_P001_b  Pre-treatment      b  blood   \n",
       "\n",
       "                                    Treatment            Cluster  \\\n",
       "AAACCTGGTTAGATGA.Pre_P001_b  Anti-PD-L1+Chemo      b_CD8_Tn-CCR7   \n",
       "AAAGATGCAGGGTTAG.Pre_P001_b  Anti-PD-L1+Chemo      b_CD8_Tn-CCR7   \n",
       "AAAGATGGTCAGGACA.Pre_P001_b  Anti-PD-L1+Chemo     b_CD8_Tem-GZMK   \n",
       "AAAGTAGAGGTTACCT.Pre_P001_b  Anti-PD-L1+Chemo  b_CD8_Teff-FGFBP2   \n",
       "AAAGTAGGTCTGCCAG.Pre_P001_b  Anti-PD-L1+Chemo     b_CD8_Tem-GZMK   \n",
       "\n",
       "                                        ACDR3               BCDR3  \\\n",
       "AAACCTGGTTAGATGA.Pre_P001_b     CAHDGGSQGNLIF     CASSQEQPRVGGYTF   \n",
       "AAAGATGCAGGGTTAG.Pre_P001_b     CAAPSNQGGKLIF     CASSSFRGLGETQYF   \n",
       "AAAGATGGTCAGGACA.Pre_P001_b     CAENPAGGFKTIF  CSVRTSTGGPTVQETQYF   \n",
       "AAAGTAGAGGTTACCT.Pre_P001_b  CAGPHAGGTSYGKLTF       CSASEVRVEEQYF   \n",
       "AAAGTAGGTCTGCCAG.Pre_P001_b    CGPRGDTGRRALTF     CASSPHRVTGETQYF   \n",
       "\n",
       "                                                    TCR_type  \n",
       "AAACCTGGTTAGATGA.Pre_P001_b     CAHDGGSQGNLIFCASSQEQPRVGGYTF  \n",
       "AAAGATGCAGGGTTAG.Pre_P001_b     CAAPSNQGGKLIFCASSSFRGLGETQYF  \n",
       "AAAGATGGTCAGGACA.Pre_P001_b  CAENPAGGFKTIFCSVRTSTGGPTVQETQYF  \n",
       "AAAGTAGAGGTTACCT.Pre_P001_b    CAGPHAGGTSYGKLTFCSASEVRVEEQYF  \n",
       "AAAGTAGGTCTGCCAG.Pre_P001_b    CGPRGDTGRRALTFCASSPHRVTGETQYF  "
      ]
     },
     "execution_count": 79,
     "metadata": {},
     "output_type": "execute_result"
    }
   ],
   "source": [
    "TCR_CD8['TCR_type']=TCR_CD8['ACDR3']+TCR_CD8['BCDR3']\n",
    "TCR_CD8.head() # merge CDR regions of both alpha and beta regions"
   ]
  },
  {
   "cell_type": "code",
   "execution_count": 43,
   "id": "124e4020-24c5-47ca-8ea1-fa8f220cf938",
   "metadata": {},
   "outputs": [
    {
     "data": {
      "text/html": [
       "<div>\n",
       "<style scoped>\n",
       "    .dataframe tbody tr th:only-of-type {\n",
       "        vertical-align: middle;\n",
       "    }\n",
       "\n",
       "    .dataframe tbody tr th {\n",
       "        vertical-align: top;\n",
       "    }\n",
       "\n",
       "    .dataframe thead th {\n",
       "        text-align: right;\n",
       "    }\n",
       "</style>\n",
       "<table border=\"1\" class=\"dataframe\">\n",
       "  <thead>\n",
       "    <tr style=\"text-align: right;\">\n",
       "      <th></th>\n",
       "      <th>TCR_id</th>\n",
       "      <th>Patient</th>\n",
       "      <th>Origin</th>\n",
       "      <th>cluster</th>\n",
       "    </tr>\n",
       "  </thead>\n",
       "  <tbody>\n",
       "    <tr>\n",
       "      <th>AAACCTGGTTAGATGA.Pre_P001_b</th>\n",
       "      <td>TRAV38-2/DV8_TGTGCTCACGATGGAGGAAGCCAAGGAAATCTC...</td>\n",
       "      <td>P001</td>\n",
       "      <td>b</td>\n",
       "      <td>b_CD8_Tn-CCR7</td>\n",
       "    </tr>\n",
       "    <tr>\n",
       "      <th>AAAGATGCAGGGTTAG.Pre_P001_b</th>\n",
       "      <td>TRAV23/DV6_TGTGCAGCCCCTTCTAACCAGGGAGGAAAGCTTAT...</td>\n",
       "      <td>P001</td>\n",
       "      <td>b</td>\n",
       "      <td>b_CD8_Tn-CCR7</td>\n",
       "    </tr>\n",
       "    <tr>\n",
       "      <th>AAAGATGGTCAGGACA.Pre_P001_b</th>\n",
       "      <td>TRAV13-2_TGTGCAGAGAATCCGGCTGGAGGCTTCAAAACTATCT...</td>\n",
       "      <td>P001</td>\n",
       "      <td>b</td>\n",
       "      <td>b_CD8_Tem-GZMK</td>\n",
       "    </tr>\n",
       "    <tr>\n",
       "      <th>AAAGTAGAGGTTACCT.Pre_P001_b</th>\n",
       "      <td>TRAV35_TGTGCTGGGCCCCATGCTGGTGGTACTAGCTATGGAAAG...</td>\n",
       "      <td>P001</td>\n",
       "      <td>b</td>\n",
       "      <td>b_CD8_Teff-FGFBP2</td>\n",
       "    </tr>\n",
       "    <tr>\n",
       "      <th>AAAGTAGGTCTGCCAG.Pre_P001_b</th>\n",
       "      <td>TRAV5_TGTGGCCCTAGAGGGGACACGGGCAGGAGAGCACTTACTT...</td>\n",
       "      <td>P001</td>\n",
       "      <td>b</td>\n",
       "      <td>b_CD8_Tem-GZMK</td>\n",
       "    </tr>\n",
       "  </tbody>\n",
       "</table>\n",
       "</div>"
      ],
      "text/plain": [
       "                                                                        TCR_id  \\\n",
       "AAACCTGGTTAGATGA.Pre_P001_b  TRAV38-2/DV8_TGTGCTCACGATGGAGGAAGCCAAGGAAATCTC...   \n",
       "AAAGATGCAGGGTTAG.Pre_P001_b  TRAV23/DV6_TGTGCAGCCCCTTCTAACCAGGGAGGAAAGCTTAT...   \n",
       "AAAGATGGTCAGGACA.Pre_P001_b  TRAV13-2_TGTGCAGAGAATCCGGCTGGAGGCTTCAAAACTATCT...   \n",
       "AAAGTAGAGGTTACCT.Pre_P001_b  TRAV35_TGTGCTGGGCCCCATGCTGGTGGTACTAGCTATGGAAAG...   \n",
       "AAAGTAGGTCTGCCAG.Pre_P001_b  TRAV5_TGTGGCCCTAGAGGGGACACGGGCAGGAGAGCACTTACTT...   \n",
       "\n",
       "                            Patient Origin            cluster  \n",
       "AAACCTGGTTAGATGA.Pre_P001_b    P001      b      b_CD8_Tn-CCR7  \n",
       "AAAGATGCAGGGTTAG.Pre_P001_b    P001      b      b_CD8_Tn-CCR7  \n",
       "AAAGATGGTCAGGACA.Pre_P001_b    P001      b     b_CD8_Tem-GZMK  \n",
       "AAAGTAGAGGTTACCT.Pre_P001_b    P001      b  b_CD8_Teff-FGFBP2  \n",
       "AAAGTAGGTCTGCCAG.Pre_P001_b    P001      b     b_CD8_Tem-GZMK  "
      ]
     },
     "execution_count": 43,
     "metadata": {},
     "output_type": "execute_result"
    }
   ],
   "source": [
    "adata_CD8.obs['TCR_id']=TCR_CD8['Clone.id']\n",
    "adata_CD8.obs['Patient']=TCR_CD8['Patient']\n",
    "adata_CD8.obs['Origin']=TCR_CD8['Origin']\n",
    "adata_CD8.obs['cluster']=TCR_CD8['Cluster']\n",
    "\n",
    "adata_CD8.obs.head() # assign parameters including TCR_id (merged CDR sequence) to metadata"
   ]
  },
  {
   "cell_type": "code",
   "execution_count": 55,
   "id": "854df3a5-ceef-402e-b5dc-c40ce9e54100",
   "metadata": {},
   "outputs": [
    {
     "data": {
      "text/html": [
       "<div>\n",
       "<style scoped>\n",
       "    .dataframe tbody tr th:only-of-type {\n",
       "        vertical-align: middle;\n",
       "    }\n",
       "\n",
       "    .dataframe tbody tr th {\n",
       "        vertical-align: top;\n",
       "    }\n",
       "\n",
       "    .dataframe thead th {\n",
       "        text-align: right;\n",
       "    }\n",
       "</style>\n",
       "<table border=\"1\" class=\"dataframe\">\n",
       "  <thead>\n",
       "    <tr style=\"text-align: right;\">\n",
       "      <th></th>\n",
       "      <th>TCR_id</th>\n",
       "      <th>Patient</th>\n",
       "      <th>Origin</th>\n",
       "      <th>cluster</th>\n",
       "      <th>ACDR</th>\n",
       "      <th>BCDR</th>\n",
       "    </tr>\n",
       "  </thead>\n",
       "  <tbody>\n",
       "    <tr>\n",
       "      <th>AAACCTGGTTAGATGA.Pre_P001_b</th>\n",
       "      <td>TRAV38-2/DV8_TGTGCTCACGATGGAGGAAGCCAAGGAAATCTC...</td>\n",
       "      <td>P001</td>\n",
       "      <td>b</td>\n",
       "      <td>b_CD8_Tn-CCR7</td>\n",
       "      <td>CAHDGGSQGNLIF</td>\n",
       "      <td>CASSQEQPRVGGYTF</td>\n",
       "    </tr>\n",
       "    <tr>\n",
       "      <th>AAAGATGCAGGGTTAG.Pre_P001_b</th>\n",
       "      <td>TRAV23/DV6_TGTGCAGCCCCTTCTAACCAGGGAGGAAAGCTTAT...</td>\n",
       "      <td>P001</td>\n",
       "      <td>b</td>\n",
       "      <td>b_CD8_Tn-CCR7</td>\n",
       "      <td>CAAPSNQGGKLIF</td>\n",
       "      <td>CASSSFRGLGETQYF</td>\n",
       "    </tr>\n",
       "    <tr>\n",
       "      <th>AAAGATGGTCAGGACA.Pre_P001_b</th>\n",
       "      <td>TRAV13-2_TGTGCAGAGAATCCGGCTGGAGGCTTCAAAACTATCT...</td>\n",
       "      <td>P001</td>\n",
       "      <td>b</td>\n",
       "      <td>b_CD8_Tem-GZMK</td>\n",
       "      <td>CAENPAGGFKTIF</td>\n",
       "      <td>CSVRTSTGGPTVQETQYF</td>\n",
       "    </tr>\n",
       "    <tr>\n",
       "      <th>AAAGTAGAGGTTACCT.Pre_P001_b</th>\n",
       "      <td>TRAV35_TGTGCTGGGCCCCATGCTGGTGGTACTAGCTATGGAAAG...</td>\n",
       "      <td>P001</td>\n",
       "      <td>b</td>\n",
       "      <td>b_CD8_Teff-FGFBP2</td>\n",
       "      <td>CAGPHAGGTSYGKLTF</td>\n",
       "      <td>CSASEVRVEEQYF</td>\n",
       "    </tr>\n",
       "    <tr>\n",
       "      <th>AAAGTAGGTCTGCCAG.Pre_P001_b</th>\n",
       "      <td>TRAV5_TGTGGCCCTAGAGGGGACACGGGCAGGAGAGCACTTACTT...</td>\n",
       "      <td>P001</td>\n",
       "      <td>b</td>\n",
       "      <td>b_CD8_Tem-GZMK</td>\n",
       "      <td>CGPRGDTGRRALTF</td>\n",
       "      <td>CASSPHRVTGETQYF</td>\n",
       "    </tr>\n",
       "  </tbody>\n",
       "</table>\n",
       "</div>"
      ],
      "text/plain": [
       "                                                                        TCR_id  \\\n",
       "AAACCTGGTTAGATGA.Pre_P001_b  TRAV38-2/DV8_TGTGCTCACGATGGAGGAAGCCAAGGAAATCTC...   \n",
       "AAAGATGCAGGGTTAG.Pre_P001_b  TRAV23/DV6_TGTGCAGCCCCTTCTAACCAGGGAGGAAAGCTTAT...   \n",
       "AAAGATGGTCAGGACA.Pre_P001_b  TRAV13-2_TGTGCAGAGAATCCGGCTGGAGGCTTCAAAACTATCT...   \n",
       "AAAGTAGAGGTTACCT.Pre_P001_b  TRAV35_TGTGCTGGGCCCCATGCTGGTGGTACTAGCTATGGAAAG...   \n",
       "AAAGTAGGTCTGCCAG.Pre_P001_b  TRAV5_TGTGGCCCTAGAGGGGACACGGGCAGGAGAGCACTTACTT...   \n",
       "\n",
       "                            Patient Origin            cluster  \\\n",
       "AAACCTGGTTAGATGA.Pre_P001_b    P001      b      b_CD8_Tn-CCR7   \n",
       "AAAGATGCAGGGTTAG.Pre_P001_b    P001      b      b_CD8_Tn-CCR7   \n",
       "AAAGATGGTCAGGACA.Pre_P001_b    P001      b     b_CD8_Tem-GZMK   \n",
       "AAAGTAGAGGTTACCT.Pre_P001_b    P001      b  b_CD8_Teff-FGFBP2   \n",
       "AAAGTAGGTCTGCCAG.Pre_P001_b    P001      b     b_CD8_Tem-GZMK   \n",
       "\n",
       "                                         ACDR                BCDR  \n",
       "AAACCTGGTTAGATGA.Pre_P001_b     CAHDGGSQGNLIF     CASSQEQPRVGGYTF  \n",
       "AAAGATGCAGGGTTAG.Pre_P001_b     CAAPSNQGGKLIF     CASSSFRGLGETQYF  \n",
       "AAAGATGGTCAGGACA.Pre_P001_b     CAENPAGGFKTIF  CSVRTSTGGPTVQETQYF  \n",
       "AAAGTAGAGGTTACCT.Pre_P001_b  CAGPHAGGTSYGKLTF       CSASEVRVEEQYF  \n",
       "AAAGTAGGTCTGCCAG.Pre_P001_b    CGPRGDTGRRALTF     CASSPHRVTGETQYF  "
      ]
     },
     "execution_count": 55,
     "metadata": {},
     "output_type": "execute_result"
    }
   ],
   "source": [
    "adata_CD8.obs['ACDR']=TCR_CD8['ACDR3']\n",
    "adata_CD8.obs['BCDR']=TCR_CD8['BCDR3']\n",
    "\n",
    "adata_CD8.obs.head() #assign CDR regions to the metadata"
   ]
  },
  {
   "cell_type": "markdown",
   "id": "7ca5b1b3-af65-492e-80c4-a9c05c239c28",
   "metadata": {},
   "source": [
    "## Normalize and scale anndata"
   ]
  },
  {
   "cell_type": "code",
   "execution_count": 44,
   "id": "2c07bb7e-206e-433c-b450-0a66d5736a2a",
   "metadata": {},
   "outputs": [],
   "source": [
    "#Raw counts data of CD8 cells was extracted based on cell barcodes, according to analysis of the paper authors\n",
    "## QC of cells was skipped\n",
    "##remove low quality genes\n",
    "\n",
    "sc.pp.filter_genes(adata_CD8, min_cells=3)\n"
   ]
  },
  {
   "cell_type": "code",
   "execution_count": 46,
   "id": "0c472a92-8349-4f36-90e9-a66f311771de",
   "metadata": {},
   "outputs": [],
   "source": [
    "# Normalize data\n",
    "sc.pp.normalize_total(adata_CD8, target_sum=10000)\n",
    "sc.pp.log1p(adata_CD8)"
   ]
  },
  {
   "cell_type": "code",
   "execution_count": 47,
   "id": "e443f7c7-fca3-4e40-884e-522601023eaa",
   "metadata": {},
   "outputs": [],
   "source": [
    "#identify variable genes\n",
    "sc.pp.highly_variable_genes(adata_CD8, n_top_genes=2000)"
   ]
  },
  {
   "cell_type": "code",
   "execution_count": 49,
   "id": "2c64d0b7-babe-40ea-b1e2-79165e3de30b",
   "metadata": {},
   "outputs": [],
   "source": [
    "#PCA\n",
    "sc.pp.pca(adata_CD8, n_comps=50)"
   ]
  },
  {
   "cell_type": "markdown",
   "id": "d148ee54-6c20-4831-bbd6-9ea602f41466",
   "metadata": {},
   "source": [
    "## Identify tumor reactive CD8 cells based on the clonotypes expansion"
   ]
  },
  {
   "cell_type": "code",
   "execution_count": 81,
   "id": "bb47371a-915a-471d-ad56-014f1d6f5f2f",
   "metadata": {},
   "outputs": [],
   "source": [
    "#identify the shared clonotypes between blood and tumor\n",
    "blood_tcrs = TCR_CD8[TCR_CD8['Origin'] == 'b']['TCR_type']\n",
    "tumor_tcrs = TCR_CD8[TCR_CD8['Origin'] == 't']['TCR_type']\n",
    "shared_clonotypes = set(blood_tcrs).intersection(tumor_tcrs)"
   ]
  },
  {
   "cell_type": "code",
   "execution_count": 84,
   "id": "6811e6f9-075d-41db-94e0-347c14069cbc",
   "metadata": {},
   "outputs": [
    {
     "data": {
      "text/plain": [
       "['CALTRGDTGGFKTIFCSARPFATSNYNEQFF',\n",
       " 'CAVTAPGYALNFCASSVRGDEQFF',\n",
       " 'CALNTGNQFYFCASARDSRTYEQYF',\n",
       " 'CALGGFGIQGAQKLVFCSAQGQGGYTF',\n",
       " 'CAASAGAQKLVFCASSLSVGAQETQYF',\n",
       " 'CSVGGSNYKLTFCASSVGQRGTNEQFF',\n",
       " 'CAVRDLSAGNMLTFCATSDGATRGEKLFF',\n",
       " 'CALKGGYSTLTFCASSSLPGRGSYEQYF',\n",
       " 'CAVPNQAGTALIFCASSPSVATNEKLFF',\n",
       " 'CAVQVGAGGTSYGKLTFCASYTASGGRWDEQFF']"
      ]
     },
     "execution_count": 84,
     "metadata": {},
     "output_type": "execute_result"
    }
   ],
   "source": [
    "list(shared_clonotypes)[:10]"
   ]
  },
  {
   "cell_type": "code",
   "execution_count": 89,
   "id": "c6061602-c12d-44c4-bdfb-973e2eaf0b66",
   "metadata": {},
   "outputs": [],
   "source": [
    "tumor_clonotypes = TCR_CD8[TCR_CD8['Origin'] == 't'].groupby('TCR_type').size()\n",
    "blood_clonotypes = TCR_CD8[TCR_CD8['Origin'] == 'b'].groupby('TCR_type').size()\n",
    "\n",
    "# Calculate relative frequencies\n",
    "tumor_clonotype_frequencies = tumor_clonotypes / tumor_clonotypes.sum()\n",
    "blood_clonotype_frequencies = blood_clonotypes / blood_clonotypes.sum()"
   ]
  },
  {
   "cell_type": "code",
   "execution_count": 90,
   "id": "a8de4a5e-e7e3-40f8-b793-5efd46b31d4d",
   "metadata": {},
   "outputs": [
    {
     "data": {
      "text/plain": [
       "10354"
      ]
     },
     "execution_count": 90,
     "metadata": {},
     "output_type": "execute_result"
    }
   ],
   "source": [
    "len(tumor_clonotype_frequencies)"
   ]
  },
  {
   "cell_type": "code",
   "execution_count": 91,
   "id": "7d19137a-a4a5-4adc-a9f5-64799e1fe75c",
   "metadata": {},
   "outputs": [
    {
     "data": {
      "text/plain": [
       "13345"
      ]
     },
     "execution_count": 91,
     "metadata": {},
     "output_type": "execute_result"
    }
   ],
   "source": [
    "len(blood_clonotype_frequencies)"
   ]
  },
  {
   "cell_type": "code",
   "execution_count": 92,
   "id": "59deb089-0840-40c8-88e7-e4936a257ff4",
   "metadata": {},
   "outputs": [],
   "source": [
    "# calculate the enricment score of tumor clonotype expansion relative to blood clonotype expansion\n",
    "enrichment = tumor_clonotype_frequencies / blood_clonotype_frequencies"
   ]
  },
  {
   "cell_type": "code",
   "execution_count": 93,
   "id": "69c83c0f-3da9-4c71-8b21-3c6a94258ae3",
   "metadata": {},
   "outputs": [
    {
     "data": {
      "text/plain": [
       "22630"
      ]
     },
     "execution_count": 93,
     "metadata": {},
     "output_type": "execute_result"
    }
   ],
   "source": [
    "len(enrichment)"
   ]
  },
  {
   "cell_type": "code",
   "execution_count": 94,
   "id": "f63ed2c1-c775-486b-94e5-04494f072e7a",
   "metadata": {},
   "outputs": [
    {
     "data": {
      "text/plain": [
       "TCR_type\n",
       "CAAAAGSYQLTFCASSRRQGQEKLFF               NaN\n",
       "CAAAAVYPGYSTLTFCASSLRGRYNEQFF            NaN\n",
       "CAAAAYSGAGSYQLTFCASSLAYGNSNQPQHF         NaN\n",
       "CAAADEKLTFCAIMSASGYNEQFF                 NaN\n",
       "CAAADESGGSYIPTFCASSYDRADYEQYF            NaN\n",
       "CAAADGQKLLFCASSVGQGSYEQYF                NaN\n",
       "CAAADGTSYGKLTFCASSLDRGMKKLFF        1.406939\n",
       "CAAADSNYQLIWCASSDGAGVSNEQFF              NaN\n",
       "CAAADSWGKLQFCASLGTGGQYF                  NaN\n",
       "CAAAEDQGGKLIFCASSLRLAGDPYNEQFF           NaN\n",
       "dtype: float64"
      ]
     },
     "execution_count": 94,
     "metadata": {},
     "output_type": "execute_result"
    }
   ],
   "source": [
    "enrichment.head(10)"
   ]
  },
  {
   "cell_type": "code",
   "execution_count": 95,
   "id": "2457d8c8-1231-4d7c-b00c-ca2732822f83",
   "metadata": {},
   "outputs": [],
   "source": [
    "enrichment_non_na = enrichment.dropna()"
   ]
  },
  {
   "cell_type": "code",
   "execution_count": 96,
   "id": "0d3c54ca-023a-4965-bef9-e7b9387bc435",
   "metadata": {},
   "outputs": [
    {
     "data": {
      "text/plain": [
       "1069"
      ]
     },
     "execution_count": 96,
     "metadata": {},
     "output_type": "execute_result"
    }
   ],
   "source": [
    "len(enrichment_non_na)"
   ]
  },
  {
   "cell_type": "code",
   "execution_count": 97,
   "id": "52e0bfd6-d605-4d13-9283-fb947e230d4c",
   "metadata": {},
   "outputs": [],
   "source": [
    "enriched_clonotypes = enrichment_non_na.sort_values(ascending=False)"
   ]
  },
  {
   "cell_type": "code",
   "execution_count": 100,
   "id": "e86be52e-ce77-455c-a775-1b571523b857",
   "metadata": {},
   "outputs": [
    {
     "data": {
      "text/plain": [
       "TCR_type\n",
       "CVVRSDTGRRALTFCASSLGGTGMRINSPLHF     105.520422\n",
       "CAVSDYKLSFCASSARAGGVSGELFF            94.264911\n",
       "CAGAPNAGGTSYGKLTFCASSEYGQVPYNEQFF     57.684498\n",
       "CAGGSTGGGNKLTFCASSTAGGYAEAFF          50.649803\n",
       "CAVGDNFNKFYFCASSRTSASGELFF            48.539394\n",
       "                                        ...    \n",
       "CAVGANAGNMLTFCASSIFGELFF               7.282978\n",
       "CAMRQAQGGSEKLVFCATSSLRGLGTEAFF         7.034695\n",
       "CALSSGTYKYIFCAWTGLVNEQFF               7.034695\n",
       "CAVGLSHEKLTFCASSFNVNTEAFF              7.034695\n",
       "CATDGQHNQGGKLIFCSVDRGAVYGYTF           7.034695\n",
       "Length: 100, dtype: float64"
      ]
     },
     "execution_count": 100,
     "metadata": {},
     "output_type": "execute_result"
    }
   ],
   "source": [
    "enriched_clonotypes.head(100)"
   ]
  },
  {
   "cell_type": "code",
   "execution_count": 105,
   "id": "7088ff74-34ee-43b4-8ff9-c98f4ae667b4",
   "metadata": {},
   "outputs": [],
   "source": [
    "high_enrichment = enriched_clonotypes[enriched_clonotypes > 5] \n",
    "# define the tumor reactive CD8 cells as the clonotypes expanded more than 5 fold in tumor compared to blood"
   ]
  },
  {
   "cell_type": "code",
   "execution_count": 106,
   "id": "491270b6-c024-4a96-b50e-f5d3f4e4eddb",
   "metadata": {},
   "outputs": [
    {
     "data": {
      "text/plain": [
       "169"
      ]
     },
     "execution_count": 106,
     "metadata": {},
     "output_type": "execute_result"
    }
   ],
   "source": [
    "len(high_enrichment)"
   ]
  },
  {
   "cell_type": "code",
   "execution_count": 107,
   "id": "a92cf5e3-247b-49e6-9370-c9000de790ae",
   "metadata": {},
   "outputs": [],
   "source": [
    "#identify the clonotypes only in tumors\n",
    "tumor_only_clonotypes = set(tumor_tcrs).difference(blood_tcrs)"
   ]
  },
  {
   "cell_type": "code",
   "execution_count": 108,
   "id": "ceea88a0-bb88-441b-8078-35e4adf2082a",
   "metadata": {},
   "outputs": [
    {
     "data": {
      "text/plain": [
       "9285"
      ]
     },
     "execution_count": 108,
     "metadata": {},
     "output_type": "execute_result"
    }
   ],
   "source": [
    "len(tumor_only_clonotypes)"
   ]
  },
  {
   "cell_type": "code",
   "execution_count": 125,
   "id": "fcc0e0ea-8613-4a93-a52b-5189fc8ea18f",
   "metadata": {},
   "outputs": [],
   "source": [
    "high_t_tcr=tumor_clonotype_frequencies.sort_values(ascending=False)[0:1840]"
   ]
  },
  {
   "cell_type": "code",
   "execution_count": 126,
   "id": "2fbbec52-c63e-4ba8-9f88-7c7626173b75",
   "metadata": {},
   "outputs": [
    {
     "data": {
      "text/plain": [
       "TCR_type\n",
       "CAVRDRNYQLIWCASSDAGDTDTQYF          0.020074\n",
       "CAARSGATNKLIFCASSLADGRETQYF         0.014698\n",
       "CAVQPGSQGNLIFCASSFSSGGYNEQFF        0.012493\n",
       "CAMREVFTGGGNKLTFCASSLEAAGLDEKLFF    0.007117\n",
       "CIVHNNNDMRFCASSRTGRGTEAFF           0.006807\n",
       "dtype: float64"
      ]
     },
     "execution_count": 126,
     "metadata": {},
     "output_type": "execute_result"
    }
   ],
   "source": [
    "high_t_tcr.head()"
   ]
  },
  {
   "cell_type": "code",
   "execution_count": 127,
   "id": "1404ae9a-3eaa-4f10-9df1-b0c25a47e7d2",
   "metadata": {},
   "outputs": [],
   "source": [
    "t_tcr=high_t_tcr.loc[high_t_tcr.index.isin(tumor_only_clonotypes)]  \n",
    "#identify the tumor reactive CD8 cells as the ones only exist in tumors and top 20% of the clonotype frequency"
   ]
  },
  {
   "cell_type": "code",
   "execution_count": 128,
   "id": "39d6fd8a-a3c7-4129-942b-7e9daac0c137",
   "metadata": {},
   "outputs": [
    {
     "data": {
      "text/plain": [
       "1282"
      ]
     },
     "execution_count": 128,
     "metadata": {},
     "output_type": "execute_result"
    }
   ],
   "source": [
    "len(t_tcr)"
   ]
  },
  {
   "cell_type": "code",
   "execution_count": 129,
   "id": "5de5b4c4-eed5-401e-90d4-939864414b8c",
   "metadata": {},
   "outputs": [],
   "source": [
    "TCR_all=[]\n",
    "TCR_all.extend(t_tcr.index)\n",
    "TCR_all.extend(high_enrichment.index) #combine tumor reactive CD8 cells from both resources"
   ]
  },
  {
   "cell_type": "code",
   "execution_count": 130,
   "id": "082d6438-80d5-4a01-a2b3-7395e5f250e4",
   "metadata": {},
   "outputs": [
    {
     "data": {
      "text/plain": [
       "1451"
      ]
     },
     "execution_count": 130,
     "metadata": {},
     "output_type": "execute_result"
    }
   ],
   "source": [
    "len(TCR_all)"
   ]
  },
  {
   "cell_type": "code",
   "execution_count": 131,
   "id": "41517ef7-0830-4e7e-8cff-f55e6d7594f4",
   "metadata": {},
   "outputs": [],
   "source": [
    "#label the CD8 cells as neo and non_neo based on the clonotype analysis\n",
    "TCR_type=[]\n",
    "for i in TCR_CD8.index:\n",
    "    if TCR_CD8.loc[i, 'TCR_type'] in TCR_all:\n",
    "        TCR_type.append('neo')\n",
    "    else:\n",
    "        TCR_type.append('non_neo')\n"
   ]
  },
  {
   "cell_type": "code",
   "execution_count": 132,
   "id": "e0135f09-82ec-4296-96f8-d38d3ee00236",
   "metadata": {},
   "outputs": [
    {
     "name": "stdout",
     "output_type": "stream",
     "text": [
      "non_neo    48962\n",
      "neo        13267\n",
      "Name: count, dtype: int64\n"
     ]
    }
   ],
   "source": [
    "TCR_type_series = pd.Series(TCR_type)\n",
    "\n",
    "value_counts = TCR_type_series.value_counts()\n",
    "print(value_counts)"
   ]
  },
  {
   "cell_type": "code",
   "execution_count": 133,
   "id": "abad55ea-a930-4b27-8cc2-6057d4de5e8c",
   "metadata": {},
   "outputs": [],
   "source": [
    "#assign the labeling to metadata and\n",
    "adata_CD8.obs['TCR_type']=TCR_type"
   ]
  },
  {
   "cell_type": "code",
   "execution_count": 134,
   "id": "6e757b4a-6b36-4b53-9eae-9d6bea6f909d",
   "metadata": {},
   "outputs": [
    {
     "data": {
      "text/html": [
       "<div>\n",
       "<style scoped>\n",
       "    .dataframe tbody tr th:only-of-type {\n",
       "        vertical-align: middle;\n",
       "    }\n",
       "\n",
       "    .dataframe tbody tr th {\n",
       "        vertical-align: top;\n",
       "    }\n",
       "\n",
       "    .dataframe thead th {\n",
       "        text-align: right;\n",
       "    }\n",
       "</style>\n",
       "<table border=\"1\" class=\"dataframe\">\n",
       "  <thead>\n",
       "    <tr style=\"text-align: right;\">\n",
       "      <th></th>\n",
       "      <th>TCR_id</th>\n",
       "      <th>Patient</th>\n",
       "      <th>Origin</th>\n",
       "      <th>cluster</th>\n",
       "      <th>ACDR</th>\n",
       "      <th>BCDR</th>\n",
       "      <th>TCR_type</th>\n",
       "    </tr>\n",
       "  </thead>\n",
       "  <tbody>\n",
       "    <tr>\n",
       "      <th>AAACCTGGTTAGATGA.Pre_P001_b</th>\n",
       "      <td>TRAV38-2/DV8_TGTGCTCACGATGGAGGAAGCCAAGGAAATCTC...</td>\n",
       "      <td>P001</td>\n",
       "      <td>b</td>\n",
       "      <td>b_CD8_Tn-CCR7</td>\n",
       "      <td>CAHDGGSQGNLIF</td>\n",
       "      <td>CASSQEQPRVGGYTF</td>\n",
       "      <td>non_neo</td>\n",
       "    </tr>\n",
       "    <tr>\n",
       "      <th>AAAGATGCAGGGTTAG.Pre_P001_b</th>\n",
       "      <td>TRAV23/DV6_TGTGCAGCCCCTTCTAACCAGGGAGGAAAGCTTAT...</td>\n",
       "      <td>P001</td>\n",
       "      <td>b</td>\n",
       "      <td>b_CD8_Tn-CCR7</td>\n",
       "      <td>CAAPSNQGGKLIF</td>\n",
       "      <td>CASSSFRGLGETQYF</td>\n",
       "      <td>non_neo</td>\n",
       "    </tr>\n",
       "    <tr>\n",
       "      <th>AAAGATGGTCAGGACA.Pre_P001_b</th>\n",
       "      <td>TRAV13-2_TGTGCAGAGAATCCGGCTGGAGGCTTCAAAACTATCT...</td>\n",
       "      <td>P001</td>\n",
       "      <td>b</td>\n",
       "      <td>b_CD8_Tem-GZMK</td>\n",
       "      <td>CAENPAGGFKTIF</td>\n",
       "      <td>CSVRTSTGGPTVQETQYF</td>\n",
       "      <td>non_neo</td>\n",
       "    </tr>\n",
       "    <tr>\n",
       "      <th>AAAGTAGAGGTTACCT.Pre_P001_b</th>\n",
       "      <td>TRAV35_TGTGCTGGGCCCCATGCTGGTGGTACTAGCTATGGAAAG...</td>\n",
       "      <td>P001</td>\n",
       "      <td>b</td>\n",
       "      <td>b_CD8_Teff-FGFBP2</td>\n",
       "      <td>CAGPHAGGTSYGKLTF</td>\n",
       "      <td>CSASEVRVEEQYF</td>\n",
       "      <td>non_neo</td>\n",
       "    </tr>\n",
       "    <tr>\n",
       "      <th>AAAGTAGGTCTGCCAG.Pre_P001_b</th>\n",
       "      <td>TRAV5_TGTGGCCCTAGAGGGGACACGGGCAGGAGAGCACTTACTT...</td>\n",
       "      <td>P001</td>\n",
       "      <td>b</td>\n",
       "      <td>b_CD8_Tem-GZMK</td>\n",
       "      <td>CGPRGDTGRRALTF</td>\n",
       "      <td>CASSPHRVTGETQYF</td>\n",
       "      <td>non_neo</td>\n",
       "    </tr>\n",
       "  </tbody>\n",
       "</table>\n",
       "</div>"
      ],
      "text/plain": [
       "                                                                        TCR_id  \\\n",
       "AAACCTGGTTAGATGA.Pre_P001_b  TRAV38-2/DV8_TGTGCTCACGATGGAGGAAGCCAAGGAAATCTC...   \n",
       "AAAGATGCAGGGTTAG.Pre_P001_b  TRAV23/DV6_TGTGCAGCCCCTTCTAACCAGGGAGGAAAGCTTAT...   \n",
       "AAAGATGGTCAGGACA.Pre_P001_b  TRAV13-2_TGTGCAGAGAATCCGGCTGGAGGCTTCAAAACTATCT...   \n",
       "AAAGTAGAGGTTACCT.Pre_P001_b  TRAV35_TGTGCTGGGCCCCATGCTGGTGGTACTAGCTATGGAAAG...   \n",
       "AAAGTAGGTCTGCCAG.Pre_P001_b  TRAV5_TGTGGCCCTAGAGGGGACACGGGCAGGAGAGCACTTACTT...   \n",
       "\n",
       "                            Patient Origin            cluster  \\\n",
       "AAACCTGGTTAGATGA.Pre_P001_b    P001      b      b_CD8_Tn-CCR7   \n",
       "AAAGATGCAGGGTTAG.Pre_P001_b    P001      b      b_CD8_Tn-CCR7   \n",
       "AAAGATGGTCAGGACA.Pre_P001_b    P001      b     b_CD8_Tem-GZMK   \n",
       "AAAGTAGAGGTTACCT.Pre_P001_b    P001      b  b_CD8_Teff-FGFBP2   \n",
       "AAAGTAGGTCTGCCAG.Pre_P001_b    P001      b     b_CD8_Tem-GZMK   \n",
       "\n",
       "                                         ACDR                BCDR TCR_type  \n",
       "AAACCTGGTTAGATGA.Pre_P001_b     CAHDGGSQGNLIF     CASSQEQPRVGGYTF  non_neo  \n",
       "AAAGATGCAGGGTTAG.Pre_P001_b     CAAPSNQGGKLIF     CASSSFRGLGETQYF  non_neo  \n",
       "AAAGATGGTCAGGACA.Pre_P001_b     CAENPAGGFKTIF  CSVRTSTGGPTVQETQYF  non_neo  \n",
       "AAAGTAGAGGTTACCT.Pre_P001_b  CAGPHAGGTSYGKLTF       CSASEVRVEEQYF  non_neo  \n",
       "AAAGTAGGTCTGCCAG.Pre_P001_b    CGPRGDTGRRALTF     CASSPHRVTGETQYF  non_neo  "
      ]
     },
     "execution_count": 134,
     "metadata": {},
     "output_type": "execute_result"
    }
   ],
   "source": [
    "adata_CD8.obs.head()"
   ]
  },
  {
   "cell_type": "code",
   "execution_count": 135,
   "id": "a22b0046-8e3e-47d6-882f-e5fb2b2ee7d7",
   "metadata": {},
   "outputs": [
    {
     "ename": "KeyError",
     "evalue": "'Column not found: P4HA1'",
     "output_type": "error",
     "traceback": [
      "\u001b[1;31m---------------------------------------------------------------------------\u001b[0m",
      "\u001b[1;31mKeyError\u001b[0m                                  Traceback (most recent call last)",
      "Cell \u001b[1;32mIn[135], line 1\u001b[0m\n\u001b[1;32m----> 1\u001b[0m avg_P4HA1 \u001b[38;5;241m=\u001b[39m \u001b[43madata_CD8\u001b[49m\u001b[38;5;241;43m.\u001b[39;49m\u001b[43mobs\u001b[49m\u001b[38;5;241;43m.\u001b[39;49m\u001b[43mgroupby\u001b[49m\u001b[43m(\u001b[49m\u001b[43m[\u001b[49m\u001b[38;5;124;43m'\u001b[39;49m\u001b[38;5;124;43mPatient\u001b[39;49m\u001b[38;5;124;43m'\u001b[39;49m\u001b[43m,\u001b[49m\u001b[43m \u001b[49m\u001b[38;5;124;43m'\u001b[39;49m\u001b[38;5;124;43mOrigin\u001b[39;49m\u001b[38;5;124;43m'\u001b[39;49m\u001b[43m,\u001b[49m\u001b[38;5;124;43m'\u001b[39;49m\u001b[38;5;124;43mTCR_type\u001b[39;49m\u001b[38;5;124;43m'\u001b[39;49m\u001b[43m]\u001b[49m\u001b[43m)\u001b[49m\u001b[43m[\u001b[49m\u001b[38;5;124;43m'\u001b[39;49m\u001b[38;5;124;43mP4HA1\u001b[39;49m\u001b[38;5;124;43m'\u001b[39;49m\u001b[43m]\u001b[49m\u001b[38;5;241m.\u001b[39mmean()\n",
      "File \u001b[1;32m~\\AppData\\Local\\Programs\\Python\\Python312\\Lib\\site-packages\\pandas\\core\\groupby\\generic.py:1951\u001b[0m, in \u001b[0;36mDataFrameGroupBy.__getitem__\u001b[1;34m(self, key)\u001b[0m\n\u001b[0;32m   1944\u001b[0m \u001b[38;5;28;01mif\u001b[39;00m \u001b[38;5;28misinstance\u001b[39m(key, \u001b[38;5;28mtuple\u001b[39m) \u001b[38;5;129;01mand\u001b[39;00m \u001b[38;5;28mlen\u001b[39m(key) \u001b[38;5;241m>\u001b[39m \u001b[38;5;241m1\u001b[39m:\n\u001b[0;32m   1945\u001b[0m     \u001b[38;5;66;03m# if len == 1, then it becomes a SeriesGroupBy and this is actually\u001b[39;00m\n\u001b[0;32m   1946\u001b[0m     \u001b[38;5;66;03m# valid syntax, so don't raise\u001b[39;00m\n\u001b[0;32m   1947\u001b[0m     \u001b[38;5;28;01mraise\u001b[39;00m \u001b[38;5;167;01mValueError\u001b[39;00m(\n\u001b[0;32m   1948\u001b[0m         \u001b[38;5;124m\"\u001b[39m\u001b[38;5;124mCannot subset columns with a tuple with more than one element. \u001b[39m\u001b[38;5;124m\"\u001b[39m\n\u001b[0;32m   1949\u001b[0m         \u001b[38;5;124m\"\u001b[39m\u001b[38;5;124mUse a list instead.\u001b[39m\u001b[38;5;124m\"\u001b[39m\n\u001b[0;32m   1950\u001b[0m     )\n\u001b[1;32m-> 1951\u001b[0m \u001b[38;5;28;01mreturn\u001b[39;00m \u001b[38;5;28;43msuper\u001b[39;49m\u001b[43m(\u001b[49m\u001b[43m)\u001b[49m\u001b[38;5;241;43m.\u001b[39;49m\u001b[38;5;21;43m__getitem__\u001b[39;49m\u001b[43m(\u001b[49m\u001b[43mkey\u001b[49m\u001b[43m)\u001b[49m\n",
      "File \u001b[1;32m~\\AppData\\Local\\Programs\\Python\\Python312\\Lib\\site-packages\\pandas\\core\\base.py:244\u001b[0m, in \u001b[0;36mSelectionMixin.__getitem__\u001b[1;34m(self, key)\u001b[0m\n\u001b[0;32m    242\u001b[0m \u001b[38;5;28;01melse\u001b[39;00m:\n\u001b[0;32m    243\u001b[0m     \u001b[38;5;28;01mif\u001b[39;00m key \u001b[38;5;129;01mnot\u001b[39;00m \u001b[38;5;129;01min\u001b[39;00m \u001b[38;5;28mself\u001b[39m\u001b[38;5;241m.\u001b[39mobj:\n\u001b[1;32m--> 244\u001b[0m         \u001b[38;5;28;01mraise\u001b[39;00m \u001b[38;5;167;01mKeyError\u001b[39;00m(\u001b[38;5;124mf\u001b[39m\u001b[38;5;124m\"\u001b[39m\u001b[38;5;124mColumn not found: \u001b[39m\u001b[38;5;132;01m{\u001b[39;00mkey\u001b[38;5;132;01m}\u001b[39;00m\u001b[38;5;124m\"\u001b[39m)\n\u001b[0;32m    245\u001b[0m     ndim \u001b[38;5;241m=\u001b[39m \u001b[38;5;28mself\u001b[39m\u001b[38;5;241m.\u001b[39mobj[key]\u001b[38;5;241m.\u001b[39mndim\n\u001b[0;32m    246\u001b[0m     \u001b[38;5;28;01mreturn\u001b[39;00m \u001b[38;5;28mself\u001b[39m\u001b[38;5;241m.\u001b[39m_gotitem(key, ndim\u001b[38;5;241m=\u001b[39mndim)\n",
      "\u001b[1;31mKeyError\u001b[0m: 'Column not found: P4HA1'"
     ]
    }
   ],
   "source": [
    "avg_P4HA1 = adata_CD8.obs.groupby(['Patient', 'Origin','TCR_type'])['P4HA1'].mean()"
   ]
  },
  {
   "cell_type": "code",
   "execution_count": 137,
   "id": "1f8f57fa-794b-4e1d-a8cd-63122aaba5ca",
   "metadata": {},
   "outputs": [
    {
     "name": "stdout",
     "output_type": "stream",
     "text": [
      "Patient  Origin  TCR_type\n",
      "P001     b       non_neo     0.080276\n",
      "P002     b       neo         0.000000\n",
      "                 non_neo     0.051426\n",
      "         t       neo         0.167074\n",
      "                 non_neo     0.231992\n",
      "                               ...   \n",
      "P024     b       non_neo     0.108143\n",
      "P025     b       neo         0.202675\n",
      "                 non_neo     0.073676\n",
      "         t       neo         0.066117\n",
      "                 non_neo     0.082548\n",
      "Name: P4HA1, Length: 62, dtype: float64\n"
     ]
    }
   ],
   "source": [
    "# Extract the expression of P4HA1\n",
    "\n",
    "P4HA1_expr = adata_CD8[:, 'P4HA1'].X.toarray() if hasattr(adata_CD8[:, 'P4HA1'].X, \"toarray\") else adata_CD8[:, 'P4HA1'].X\n",
    "\n",
    "# Convert the expression matrix to a DataFrame\n",
    "P4HA1_df = pd.DataFrame(P4HA1_expr, index=adata_CD8.obs.index, columns=['P4HA1'])\n",
    "\n",
    "# Combine metadata from obs with the expression data\n",
    "combined_df = pd.concat([adata_CD8.obs[['Patient', 'Origin', 'TCR_type']], P4HA1_df], axis=1)\n",
    "\n",
    "# Group by 'Patient', 'Origin', and 'TCR_type', then calculate the mean expression of P4HA1\n",
    "avg_P4HA1 = combined_df.groupby(['Patient', 'Origin', 'TCR_type'])['P4HA1'].mean()\n",
    "\n",
    "print(avg_P4HA1)"
   ]
  },
  {
   "cell_type": "code",
   "execution_count": 141,
   "id": "522614cc-5299-48f3-bdba-7be85c8ea5c2",
   "metadata": {},
   "outputs": [
    {
     "name": "stdout",
     "output_type": "stream",
     "text": [
      "Patient  Origin  TCR_type\n",
      "P001     b       non_neo     0.766233\n",
      "P002     b       neo         0.264352\n",
      "                 non_neo     0.207621\n",
      "         t       neo         0.168648\n",
      "                 non_neo     0.397158\n",
      "                               ...   \n",
      "P024     b       non_neo     0.656048\n",
      "P025     b       neo         0.601120\n",
      "                 non_neo     0.344668\n",
      "         t       neo         0.256402\n",
      "                 non_neo     0.349167\n",
      "Name: TCF7, Length: 62, dtype: float64\n"
     ]
    }
   ],
   "source": [
    "# Extract the expression of TCF7\n",
    "\n",
    "TCF7_expr = adata_CD8[:, 'TCF7'].X.toarray() if hasattr(adata_CD8[:, 'TCF7'].X, \"toarray\") else adata_CD8[:, 'TCF7'].X\n",
    "\n",
    "# Convert the expression matrix to a DataFrame\n",
    "TCF7_df = pd.DataFrame(TCF7_expr, index=adata_CD8.obs.index, columns=['TCF7'])\n",
    "\n",
    "# Combine metadata from obs with the expression data\n",
    "combined_df = pd.concat([adata_CD8.obs[['Patient', 'Origin', 'TCR_type']], TCF7_df], axis=1)\n",
    "\n",
    "# Group by 'Patient', 'Origin', and 'TCR_type', then calculate the mean expression of P4HA1\n",
    "avg_TCF7 = combined_df.groupby(['Patient', 'Origin', 'TCR_type'])['TCF7'].mean()\n",
    "\n",
    "print(avg_TCF7)"
   ]
  },
  {
   "cell_type": "code",
   "execution_count": 140,
   "id": "d4ee82bf-93d6-4423-b76a-4e8f74cdaf0d",
   "metadata": {},
   "outputs": [],
   "source": [
    "avg_P4HA1.to_excel('avg_P4HA1.xlsx', sheet_name='Avg_P4HA1')"
   ]
  },
  {
   "cell_type": "code",
   "execution_count": 142,
   "id": "3ec91000-8ecb-44fd-9008-5b95f11c8b67",
   "metadata": {},
   "outputs": [],
   "source": [
    "avg_TCF7.to_excel('avg_TCF7.xlsx', sheet_name='Avg_TCF7')"
   ]
  },
  {
   "cell_type": "code",
   "execution_count": null,
   "id": "cd554439-ae62-4928-be6c-109d028d04ed",
   "metadata": {},
   "outputs": [],
   "source": []
  }
 ],
 "metadata": {
  "kernelspec": {
   "display_name": "Python 3 (ipykernel)",
   "language": "python",
   "name": "python3"
  },
  "language_info": {
   "codemirror_mode": {
    "name": "ipython",
    "version": 3
   },
   "file_extension": ".py",
   "mimetype": "text/x-python",
   "name": "python",
   "nbconvert_exporter": "python",
   "pygments_lexer": "ipython3",
   "version": "3.12.5"
  }
 },
 "nbformat": 4,
 "nbformat_minor": 5
}
